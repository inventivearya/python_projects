{
 "cells": [
  {
   "cell_type": "markdown",
   "metadata": {},
   "source": [
    "# help() function in python"
   ]
  },
  {
   "cell_type": "markdown",
   "metadata": {},
   "source": [
    "#### Credit: Inventive Arya,\n",
    "#### Email : inventivearya@gmail.com,\n",
    "#### Youtube: Inventivearya"
   ]
  },
  {
   "cell_type": "code",
   "execution_count": null,
   "metadata": {},
   "outputs": [
    {
     "name": "stdout",
     "output_type": "stream",
     "text": [
      "\n",
      "Welcome to Python 3.5's help utility!\n",
      "\n",
      "If this is your first time using Python, you should definitely check out\n",
      "the tutorial on the Internet at http://docs.python.org/3.5/tutorial/.\n",
      "\n",
      "Enter the name of any module, keyword, or topic to get help on writing\n",
      "Python programs and using Python modules.  To quit this help utility and\n",
      "return to the interpreter, just type \"quit\".\n",
      "\n",
      "To get a list of available modules, keywords, symbols, or topics, type\n",
      "\"modules\", \"keywords\", \"symbols\", or \"topics\".  Each module also comes\n",
      "with a one-line summary of what it does; to list the modules whose name\n",
      "or summary contain a given string such as \"spam\", type \"modules spam\".\n",
      "\n",
      "help> while\n",
      "The \"while\" statement\n",
      "*********************\n",
      "\n",
      "The \"while\" statement is used for repeated execution as long as an\n",
      "expression is true:\n",
      "\n",
      "   while_stmt ::= \"while\" expression \":\" suite\n",
      "                  [\"else\" \":\" suite]\n",
      "\n",
      "This repeatedly tests the expression and, if it is true, executes the\n",
      "first suite; if the expression is false (which may be the first time\n",
      "it is tested) the suite of the \"else\" clause, if present, is executed\n",
      "and the loop terminates.\n",
      "\n",
      "A \"break\" statement executed in the first suite terminates the loop\n",
      "without executing the \"else\" clause's suite.  A \"continue\" statement\n",
      "executed in the first suite skips the rest of the suite and goes back\n",
      "to testing the expression.\n",
      "\n",
      "Related help topics: break, continue, if, TRUTHVALUE\n",
      "\n"
     ]
    }
   ],
   "source": [
    "help()"
   ]
  },
  {
   "cell_type": "code",
   "execution_count": 1,
   "metadata": {},
   "outputs": [
    {
     "name": "stdout",
     "output_type": "stream",
     "text": [
      "The \"if\" statement\n",
      "******************\n",
      "\n",
      "The \"if\" statement is used for conditional execution:\n",
      "\n",
      "   if_stmt ::= \"if\" expression \":\" suite\n",
      "               ( \"elif\" expression \":\" suite )*\n",
      "               [\"else\" \":\" suite]\n",
      "\n",
      "It selects exactly one of the suites by evaluating the expressions one\n",
      "by one until one is found to be true (see section *Boolean operations*\n",
      "for the definition of true and false); then that suite is executed\n",
      "(and no other part of the \"if\" statement is executed or evaluated).\n",
      "If all expressions are false, the suite of the \"else\" clause, if\n",
      "present, is executed.\n",
      "\n",
      "Related help topics: TRUTHVALUE\n",
      "\n",
      "None\n"
     ]
    }
   ],
   "source": [
    "print(help('if'))"
   ]
  },
  {
   "cell_type": "code",
   "execution_count": 2,
   "metadata": {},
   "outputs": [
    {
     "name": "stdout",
     "output_type": "stream",
     "text": [
      "Help on class zip in module builtins:\n",
      "\n",
      "class zip(object)\n",
      " |  zip(iter1 [,iter2 [...]]) --> zip object\n",
      " |  \n",
      " |  Return a zip object whose .__next__() method returns a tuple where\n",
      " |  the i-th element comes from the i-th iterable argument.  The .__next__()\n",
      " |  method continues until the shortest iterable in the argument sequence\n",
      " |  is exhausted and then it raises StopIteration.\n",
      " |  \n",
      " |  Methods defined here:\n",
      " |  \n",
      " |  __getattribute__(self, name, /)\n",
      " |      Return getattr(self, name).\n",
      " |  \n",
      " |  __iter__(self, /)\n",
      " |      Implement iter(self).\n",
      " |  \n",
      " |  __new__(*args, **kwargs) from builtins.type\n",
      " |      Create and return a new object.  See help(type) for accurate signature.\n",
      " |  \n",
      " |  __next__(self, /)\n",
      " |      Implement next(self).\n",
      " |  \n",
      " |  __reduce__(...)\n",
      " |      Return state information for pickling.\n",
      "\n",
      "None\n"
     ]
    }
   ],
   "source": [
    "print(help('zip'))"
   ]
  },
  {
   "cell_type": "code",
   "execution_count": 3,
   "metadata": {},
   "outputs": [
    {
     "name": "stdout",
     "output_type": "stream",
     "text": [
      "Help on built-in function sum in module builtins:\n",
      "\n",
      "sum(iterable, start=0, /)\n",
      "    Return the sum of a 'start' value (default: 0) plus an iterable of numbers\n",
      "    \n",
      "    When the iterable is empty, return the start value.\n",
      "    This function is intended specifically for use with numeric values and may\n",
      "    reject non-numeric types.\n",
      "\n",
      "None\n"
     ]
    }
   ],
   "source": [
    "print(help('sum'))"
   ]
  },
  {
   "cell_type": "code",
   "execution_count": 4,
   "metadata": {},
   "outputs": [
    {
     "name": "stdout",
     "output_type": "stream",
     "text": [
      "\n",
      "Here is a list of the Python keywords.  Enter any keyword to get more help.\n",
      "\n",
      "False               def                 if                  raise\n",
      "None                del                 import              return\n",
      "True                elif                in                  try\n",
      "and                 else                is                  while\n",
      "as                  except              lambda              with\n",
      "assert              finally             nonlocal            yield\n",
      "break               for                 not                 \n",
      "class               from                or                  \n",
      "continue            global              pass                \n",
      "\n",
      "None\n"
     ]
    }
   ],
   "source": [
    "print(help('keywords'))"
   ]
  },
  {
   "cell_type": "code",
   "execution_count": 5,
   "metadata": {},
   "outputs": [
    {
     "name": "stdout",
     "output_type": "stream",
     "text": [
      "Help on built-in function print in module builtins:\n",
      "\n",
      "print(...)\n",
      "    print(value, ..., sep=' ', end='\\n', file=sys.stdout, flush=False)\n",
      "    \n",
      "    Prints the values to a stream, or to sys.stdout by default.\n",
      "    Optional keyword arguments:\n",
      "    file:  a file-like object (stream); defaults to the current sys.stdout.\n",
      "    sep:   string inserted between values, default a space.\n",
      "    end:   string appended after the last value, default a newline.\n",
      "    flush: whether to forcibly flush the stream.\n",
      "\n",
      "None\n"
     ]
    }
   ],
   "source": [
    "print(help(print))"
   ]
  },
  {
   "cell_type": "code",
   "execution_count": null,
   "metadata": {},
   "outputs": [],
   "source": []
  }
 ],
 "metadata": {
  "kernelspec": {
   "display_name": "firstEnv",
   "language": "python",
   "name": "firstenv"
  },
  "language_info": {
   "codemirror_mode": {
    "name": "ipython",
    "version": 3
   },
   "file_extension": ".py",
   "mimetype": "text/x-python",
   "name": "python",
   "nbconvert_exporter": "python",
   "pygments_lexer": "ipython3",
   "version": "3.5.6"
  }
 },
 "nbformat": 4,
 "nbformat_minor": 2
}
